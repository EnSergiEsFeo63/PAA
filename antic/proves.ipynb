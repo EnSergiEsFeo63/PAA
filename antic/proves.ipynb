{
 "cells": [
  {
   "cell_type": "code",
   "execution_count": 3,
   "id": "a440829e",
   "metadata": {},
   "outputs": [],
   "source": [
    "import os\n",
    "class CKY:\n",
    "    def __init__(self):\n",
    "        self.normes = {'S': ['a','XA','AX','b'],\n",
    "                       'A': 'RB',\n",
    "                        'B': ['b','AX','a'],\n",
    "                        'X':'a',\n",
    "                        'R':'XB'}\n",
    "        #self.n = len(paraula)\n",
    "        pass\n",
    "    \n",
    "    def crear_taula(self,n):\n",
    "        taula = [[[] for i in range(n-j)]for j in range(n)]\n",
    "        return(taula)\n",
    "    \n",
    "    def afegir_norma(self,index,norma):\n",
    "        self.normes[index] = norma\n",
    "        pass\n",
    "    \n",
    "    def resol(self, paraula):\n",
    "        n = len(paraula)\n",
    "        taula = self.crear_taula(n)\n",
    "        #print(taula)\n",
    "        taula = self.nivell1(taula,paraula)\n",
    "        #print(taula)\n",
    "        for i in range(0,n):\n",
    "            for j in range(n-i):\n",
    "                for k in range(i):\n",
    "                    #print(taula[k][j])\n",
    "                    #print(taula[i-k-1][j+k+1])\n",
    "                    elements = self.combinacions(taula[k][j], taula[i-k-1][j+k+1])\n",
    "                    #print(elements)\n",
    "                    for valor in self.normes:\n",
    "                        for element in elements:\n",
    "                            if element in self.normes[valor]:\n",
    "                                taula[i][j].append(valor)\n",
    "        return taula\n",
    "    def combinacions(self, arg1, arg2):\n",
    "        resultat = []\n",
    "        if len(arg1) !=0 and len(arg2) != 0:\n",
    "            for el1 in arg1:    \n",
    "                for el2 in arg2:\n",
    "                    element = el1 + el2\n",
    "                    resultat.append(element)\n",
    "        return resultat\n",
    "    \n",
    "    def nivell1(self,taula,paraula):\n",
    "        for i in range(0,len(paraula)):\n",
    "            for norma in self.normes:\n",
    "                if paraula[i] in self.normes[norma]:\n",
    "                    taula[0][i].append(norma)\n",
    "        return taula\n",
    "    def llegir_dades(self, nom):\n",
    "        directori = os.path.dirname(os.path.abspath(__file__))\n",
    "        loc = os.path.join(directori,'fitxers')\n",
    "        fitxer = os.path.join(loc, nom)\n",
    "        with open(fitxer, 'r') as file:\n",
    "            linees = file.readlines()\n",
    "            print(linees)"
   ]
  },
  {
   "cell_type": "code",
   "execution_count": 6,
   "id": "c791f840",
   "metadata": {},
   "outputs": [
    {
     "ename": "NameError",
     "evalue": "name '__file__' is not defined",
     "output_type": "error",
     "traceback": [
      "\u001b[31m---------------------------------------------------------------------------\u001b[39m",
      "\u001b[31mNameError\u001b[39m                                 Traceback (most recent call last)",
      "\u001b[36mCell\u001b[39m\u001b[36m \u001b[39m\u001b[32mIn[6]\u001b[39m\u001b[32m, line 2\u001b[39m\n\u001b[32m      1\u001b[39m e = CKY()\n\u001b[32m----> \u001b[39m\u001b[32m2\u001b[39m \u001b[43me\u001b[49m\u001b[43m.\u001b[49m\u001b[43mllegir_dades\u001b[49m\u001b[43m(\u001b[49m\u001b[33;43m'\u001b[39;49m\u001b[33;43mgram_1\u001b[39;49m\u001b[33;43m'\u001b[39;49m\u001b[43m)\u001b[49m\n",
      "\u001b[36mCell\u001b[39m\u001b[36m \u001b[39m\u001b[32mIn[3]\u001b[39m\u001b[32m, line 54\u001b[39m, in \u001b[36mCKY.llegir_dades\u001b[39m\u001b[34m(self, nom)\u001b[39m\n\u001b[32m     53\u001b[39m \u001b[38;5;28;01mdef\u001b[39;00m\u001b[38;5;250m \u001b[39m\u001b[34mllegir_dades\u001b[39m(\u001b[38;5;28mself\u001b[39m, nom):\n\u001b[32m---> \u001b[39m\u001b[32m54\u001b[39m     directori = os.path.dirname(os.path.abspath(\u001b[34;43m__file__\u001b[39;49m))\n\u001b[32m     55\u001b[39m     loc = os.path.join(directori,\u001b[33m'\u001b[39m\u001b[33mfitxers\u001b[39m\u001b[33m'\u001b[39m)\n\u001b[32m     56\u001b[39m     fitxer = os.path.join(loc, nom)\n",
      "\u001b[31mNameError\u001b[39m: name '__file__' is not defined"
     ]
    }
   ],
   "source": [
    "e = CKY()\n",
    "e.llegir_dades('gram_1')"
   ]
  },
  {
   "cell_type": "code",
   "execution_count": 7,
   "id": "7ad580c2",
   "metadata": {},
   "outputs": [
    {
     "name": "stdout",
     "output_type": "stream",
     "text": [
      "1\n"
     ]
    }
   ],
   "source": [
    "e = {1:2}\n",
    "\n",
    "for i in e:\n",
    "    print(i)"
   ]
  }
 ],
 "metadata": {
  "kernelspec": {
   "display_name": "Python 3",
   "language": "python",
   "name": "python3"
  },
  "language_info": {
   "codemirror_mode": {
    "name": "ipython",
    "version": 3
   },
   "file_extension": ".py",
   "mimetype": "text/x-python",
   "name": "python",
   "nbconvert_exporter": "python",
   "pygments_lexer": "ipython3",
   "version": "3.11.0"
  }
 },
 "nbformat": 4,
 "nbformat_minor": 5
}
