{
 "cells": [
  {
   "cell_type": "code",
   "execution_count": 5,
   "id": "a440829e",
   "metadata": {},
   "outputs": [],
   "source": [
    "import numpy as np\n",
    "\"\"\"\n",
    "Tot el programa serà bàsicament tota una classe ( per ara, si no va be doncs potser caldràn funcions fora de la classe, ns), \n",
    "ja veurem com farem la lectura de dades, pero per ara hem de programar l'algoritme en sí\n",
    "\n",
    "\n",
    "\n",
    "\n",
    "\n",
    "\"\"\"\n",
    "class CKY:\n",
    "    def __init__(self, paraula):\n",
    "        self.normes = {}\n",
    "        #self.n = len(paraula)\n",
    "        pass\n",
    "    def crear_taula(self,n):\n",
    "        taula = [[[] for i in range(n-j)]for j in range(n)]\n",
    "        \n",
    "\n",
    "        return(taula)\n",
    "    def afegir_norma(self,index,norma):\n",
    "        self.normes[index] = norma\n",
    "    def resol(self, paraula):\n",
    "        taula = self.crear_taula(self.n)\n",
    "        l = len(paraula)\n",
    "        for i in range(0,l):\n",
    "            for j in range(0, l-i):\n",
    "                taula[0][i] = []\n",
    "            for valor in self.normes.keys():\n",
    "                if paraula[i] in self.normes[valor]:\n",
    "                    taula[0][i] += [valor]\n",
    "\n",
    "        pass"
   ]
  },
  {
   "cell_type": "code",
   "execution_count": 6,
   "id": "c791f840",
   "metadata": {},
   "outputs": [
    {
     "data": {
      "text/plain": [
       "[[[], [], [], []], [[], [], []], [[], []], [[]]]"
      ]
     },
     "execution_count": 6,
     "metadata": {},
     "output_type": "execute_result"
    }
   ],
   "source": [
    "e = CKY('e')\n",
    "e.crear_taula(4)"
   ]
  },
  {
   "cell_type": "code",
   "execution_count": 7,
   "id": "7ad580c2",
   "metadata": {},
   "outputs": [
    {
     "name": "stdout",
     "output_type": "stream",
     "text": [
      "1\n"
     ]
    }
   ],
   "source": [
    "e = {1:2}\n",
    "\n",
    "for i in e:\n",
    "    print(i)"
   ]
  }
 ],
 "metadata": {
  "kernelspec": {
   "display_name": "Python 3",
   "language": "python",
   "name": "python3"
  },
  "language_info": {
   "codemirror_mode": {
    "name": "ipython",
    "version": 3
   },
   "file_extension": ".py",
   "mimetype": "text/x-python",
   "name": "python",
   "nbconvert_exporter": "python",
   "pygments_lexer": "ipython3",
   "version": "3.12.10"
  }
 },
 "nbformat": 4,
 "nbformat_minor": 5
}
