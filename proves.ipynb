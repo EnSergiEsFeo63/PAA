{
 "cells": [
  {
   "cell_type": "code",
   "execution_count": 21,
   "id": "a440829e",
   "metadata": {},
   "outputs": [],
   "source": [
    "class CKY:\n",
    "    def __init__(self):\n",
    "        self.normes = {'S': 'AB',\n",
    "                       'A': 'a',\n",
    "                        'B': 'b'}\n",
    "        #self.n = len(paraula)\n",
    "        pass\n",
    "    \n",
    "    def crear_taula(self,n):\n",
    "        taula = [[[] for i in range(n-j)]for j in range(n)]\n",
    "        return(taula)\n",
    "    \n",
    "    def afegir_norma(self,index,norma):\n",
    "        self.normes[index] = norma\n",
    "        pass\n",
    "    \n",
    "    def resol(self, paraula):\n",
    "        n = len(paraula)\n",
    "        taula = self.crear_taula(n)\n",
    "        #print(taula)\n",
    "        taula = self.nivell1(taula,paraula)\n",
    "        #print(taula)\n",
    "        for i in range(0,n):\n",
    "            for j in range(n-i):\n",
    "                for k in range(i):\n",
    "                    #print(taula[k][j])\n",
    "                    #print(taula[i-k-1][j+k+1])\n",
    "                    elements = self.combinacions(taula[k][j], taula[i-k-1][j+k+1])\n",
    "                    #print(elements)\n",
    "                    for valor in self.normes:\n",
    "                        for element in elements:\n",
    "                            if element in self.normes[valor]:\n",
    "                                taula[i][j].append(valor)\n",
    "        return taula\n",
    "    def combinacions(self, arg1, arg2):\n",
    "        resultat = []\n",
    "        if len(arg1) !=0 and len(arg2) != 0:\n",
    "            for el1 in arg1:    \n",
    "                for el2 in arg2:\n",
    "                    element = el1 + el2\n",
    "                    resultat.append(element)\n",
    "        return resultat\n",
    "    \n",
    "    def nivell1(self,taula,paraula):\n",
    "        for i in range(0,len(paraula)):\n",
    "            for norma in self.normes:\n",
    "                if paraula[i] in self.normes[norma]:\n",
    "                    taula[0][i].append(norma)\n",
    "        return taula"
   ]
  },
  {
   "cell_type": "code",
   "execution_count": 24,
   "id": "c791f840",
   "metadata": {},
   "outputs": [
    {
     "data": {
      "text/plain": [
       "[[['A'], ['B'], ['B'], ['A'], ['B'], ['A'], ['B'], ['A'], ['B'], ['A'], ['B']],\n",
       " [['S'], [], [], ['S'], [], ['S'], [], ['S'], [], ['S']],\n",
       " [[], [], [], [], [], [], [], [], []],\n",
       " [[], [], [], [], [], [], [], []],\n",
       " [[], [], [], [], [], [], []],\n",
       " [[], [], [], [], [], []],\n",
       " [[], [], [], [], []],\n",
       " [[], [], [], []],\n",
       " [[], [], []],\n",
       " [[], []],\n",
       " [[]]]"
      ]
     },
     "execution_count": 24,
     "metadata": {},
     "output_type": "execute_result"
    }
   ],
   "source": [
    "e = CKY()\n",
    "e.resol('abbabababab')"
   ]
  },
  {
   "cell_type": "code",
   "execution_count": 7,
   "id": "7ad580c2",
   "metadata": {},
   "outputs": [
    {
     "name": "stdout",
     "output_type": "stream",
     "text": [
      "1\n"
     ]
    }
   ],
   "source": [
    "e = {1:2}\n",
    "\n",
    "for i in e:\n",
    "    print(i)"
   ]
  }
 ],
 "metadata": {
  "kernelspec": {
   "display_name": "Python 3",
   "language": "python",
   "name": "python3"
  },
  "language_info": {
   "codemirror_mode": {
    "name": "ipython",
    "version": 3
   },
   "file_extension": ".py",
   "mimetype": "text/x-python",
   "name": "python",
   "nbconvert_exporter": "python",
   "pygments_lexer": "ipython3",
   "version": "3.12.10"
  }
 },
 "nbformat": 4,
 "nbformat_minor": 5
}
